{
  "nbformat": 4,
  "nbformat_minor": 0,
  "metadata": {
    "colab": {
      "provenance": []
    },
    "kernelspec": {
      "name": "python3",
      "display_name": "Python 3"
    },
    "language_info": {
      "name": "python"
    }
  },
  "cells": [
    {
      "cell_type": "markdown",
      "source": [
        "Ejercicio 2. Spark SQL (5 puntos)\n",
        "\n",
        " Carga el fichero cars.csv proporcionado en Colab o Databricks .\n",
        " En el fichero cars.csv tenemos información sobre las características técnicas de varios vehículos:\n",
        "\n",
        " • Carga el fichero en un DataFrame de Spark que se llame cars, muestra por pantalla la estructura de cars y las primeras 5 filas (0,5 puntos)\n",
        "\n",
        " • Obtener las columnas “Car” y “Cylinders” de todos los que sean de Europa (1 punto) (0,5 puntos)\n",
        "\n",
        " • Obtener el número de vehículos por “Origin” (0,5 puntos) • Obtener el número de vehículos por “Origin” y “Model” y ordenar el resultado por el número de vehículos de manera descendente (1 punto)\n",
        "\n",
        "  • Obtén la media de \"Horsepower\", \"Weight\" y \"Acceleration\" por \"Origen\" (1 punto)\n",
        "  \n",
        "  • Calcula la ratio entre potencia y peso y a continuación sacar la media por cantidad de cilindros (1,5 puntos)"
      ],
      "metadata": {
        "id": "4rrLsSGQQ7eu"
      }
    },
    {
      "cell_type": "code",
      "metadata": {
        "colab": {
          "base_uri": "https://localhost:8080/",
          "height": 36
        },
        "id": "lJnV9Uh7l4L0",
        "outputId": "ff79b109-1bc0-4a8f-e682-5991b58cf3c4"
      },
      "source": [
        "!apt-get install openjdk-8-jdk-headless -qq > /dev/null\n",
        "\n",
        "import os # libreria de manejo del sistema operativo\n",
        "os.system(\"wget -q https://dlcdn.apache.org/spark/spark-3.4.3/spark-3.4.3-bin-hadoop3.tgz\")\n",
        "os.system(\"tar xf /spark-3.4.3-bin-hadoop3.tgz\")\n",
        "# instalar pyspark\n",
        "!tar xf /content/spark-3.4.3-bin-hadoop3.tgz\n",
        "!pip install -q pyspark\n",
        "\n",
        "# Variables de Entorno\n",
        "os.environ[\"JAVA_HOME\"] = \"/usr/lib/jvm/java-8-openjdk-amd64\"\n",
        "os.environ[\"SPARK_HOME\"] = f\"/content/spark-3.4.3-bin-hadoop3\"\n",
        "\n",
        "!pip install -q findspark\n",
        "import findspark\n",
        "#We need to locate Spark in the system. For that, we import findspark and use the findspark.init() method.\n",
        "findspark.init()\n",
        "#Para saber donde está instalado\n",
        "findspark.find()"
      ],
      "execution_count": 3,
      "outputs": [
        {
          "output_type": "execute_result",
          "data": {
            "text/plain": [
              "'/content/spark-3.4.3-bin-hadoop3'"
            ],
            "application/vnd.google.colaboratory.intrinsic+json": {
              "type": "string"
            }
          },
          "metadata": {},
          "execution_count": 3
        }
      ]
    },
    {
      "cell_type": "code",
      "metadata": {
        "id": "vJil-a_4nF6Y"
      },
      "source": [
        "from pyspark.sql import SparkSession\n",
        "#Creamos el contexto SparkSession\n",
        "spark = SparkSession.builder\\\n",
        "        .master(\"local\")\\\n",
        "        .appName(\"SparkSQL Colab\")\\\n",
        "        .getOrCreate()\n",
        "#A partir del SparkSession puedo obtener el SparkContext\n",
        "sc = spark.sparkContext"
      ],
      "execution_count": 2,
      "outputs": []
    },
    {
      "cell_type": "markdown",
      "source": [
        "Cargar el fichero en un DataFrame de Spark que se llame cars"
      ],
      "metadata": {
        "id": "3CpeXxKWQDDg"
      }
    },
    {
      "cell_type": "code",
      "source": [
        "# Cargar el archivo CSV con el delimitador correcto\n",
        "cars = spark.read.option(\"delimiter\", \";\").option(\"header\", \"true\").csv(\"/content/cars.csv\")\n",
        "\n",
        "# Mostrar la estructura de cars\n",
        "cars.printSchema()\n",
        "cars.printSchema()\n",
        "\n",
        "# Mostrar las primeras 5 filas\n",
        "cars.show(5)"
      ],
      "metadata": {
        "colab": {
          "base_uri": "https://localhost:8080/"
        },
        "id": "MnvB6qqpNnx5",
        "outputId": "097025b1-fa39-4212-e995-607da40ac653"
      },
      "execution_count": 14,
      "outputs": [
        {
          "output_type": "stream",
          "name": "stdout",
          "text": [
            "root\n",
            " |-- Car: string (nullable = true)\n",
            " |-- MPG: string (nullable = true)\n",
            " |-- Cylinders: string (nullable = true)\n",
            " |-- Displacement: string (nullable = true)\n",
            " |-- Horsepower: string (nullable = true)\n",
            " |-- Weight: string (nullable = true)\n",
            " |-- Acceleration: string (nullable = true)\n",
            " |-- Model: string (nullable = true)\n",
            " |-- Origin: string (nullable = true)\n",
            "\n",
            "root\n",
            " |-- Car: string (nullable = true)\n",
            " |-- MPG: string (nullable = true)\n",
            " |-- Cylinders: string (nullable = true)\n",
            " |-- Displacement: string (nullable = true)\n",
            " |-- Horsepower: string (nullable = true)\n",
            " |-- Weight: string (nullable = true)\n",
            " |-- Acceleration: string (nullable = true)\n",
            " |-- Model: string (nullable = true)\n",
            " |-- Origin: string (nullable = true)\n",
            "\n",
            "+--------------------+----+---------+------------+----------+------+------------+-----+------+\n",
            "|                 Car| MPG|Cylinders|Displacement|Horsepower|Weight|Acceleration|Model|Origin|\n",
            "+--------------------+----+---------+------------+----------+------+------------+-----+------+\n",
            "|Chevrolet Chevell...|18.0|        8|       307.0|     130.0| 3504.|        12.0|   70|    US|\n",
            "|   Buick Skylark 320|15.0|        8|       350.0|     165.0| 3693.|        11.5|   70|    US|\n",
            "|  Plymouth Satellite|18.0|        8|       318.0|     150.0| 3436.|        11.0|   70|    US|\n",
            "|       AMC Rebel SST|16.0|        8|       304.0|     150.0| 3433.|        12.0|   70|    US|\n",
            "|         Ford Torino|17.0|        8|       302.0|     140.0| 3449.|        10.5|   70|    US|\n",
            "+--------------------+----+---------+------------+----------+------+------------+-----+------+\n",
            "only showing top 5 rows\n",
            "\n"
          ]
        }
      ]
    },
    {
      "cell_type": "markdown",
      "source": [
        "Obtener las columnas \"Car\" y \"Cylinders\" de todos los que sean de Europa"
      ],
      "metadata": {
        "id": "wigeJgJEQIfX"
      }
    },
    {
      "cell_type": "code",
      "source": [
        "europe_cars = cars.filter(cars.Origin == \"Europe\").select(\"Car\", \"Cylinders\")\n",
        "europe_cars.show()\n"
      ],
      "metadata": {
        "colab": {
          "base_uri": "https://localhost:8080/"
        },
        "id": "ZOUUFyOqQMV3",
        "outputId": "e2607f19-d9f8-4277-fb73-813bcf338656"
      },
      "execution_count": 15,
      "outputs": [
        {
          "output_type": "stream",
          "name": "stdout",
          "text": [
            "+--------------------+---------+\n",
            "|                 Car|Cylinders|\n",
            "+--------------------+---------+\n",
            "|Citroen DS-21 Pallas|        4|\n",
            "|Volkswagen 1131 D...|        4|\n",
            "|         Peugeot 504|        4|\n",
            "|         Audi 100 LS|        4|\n",
            "|            Saab 99e|        4|\n",
            "|            BMW 2002|        4|\n",
            "|Volkswagen Super ...|        4|\n",
            "|           Opel 1900|        4|\n",
            "|         Peugeot 304|        4|\n",
            "|           Fiat 124B|        4|\n",
            "|Volkswagen Model 111|        4|\n",
            "|   Volkswagen Type 3|        4|\n",
            "|     Volvo 145e (sw)|        4|\n",
            "| Volkswagen 411 (sw)|        4|\n",
            "|    Peugeot 504 (sw)|        4|\n",
            "|     Renault 12 (sw)|        4|\n",
            "|Volkswagen Super ...|        4|\n",
            "|Fiat 124 Sport Coupe|        4|\n",
            "|            Fiat 128|        4|\n",
            "|          Opel Manta|        4|\n",
            "+--------------------+---------+\n",
            "only showing top 20 rows\n",
            "\n"
          ]
        }
      ]
    },
    {
      "cell_type": "markdown",
      "source": [
        "Obtener el número de vehículos por \"Origin\"\n",
        "\n",
        "\n"
      ],
      "metadata": {
        "id": "_sPujpFGQQQt"
      }
    },
    {
      "cell_type": "code",
      "source": [
        "cars.groupBy(\"Origin\").count().show()\n"
      ],
      "metadata": {
        "colab": {
          "base_uri": "https://localhost:8080/"
        },
        "id": "bBAhLHYGQUSW",
        "outputId": "ded5fdfd-e81d-44f7-d95a-5d2705aa2de3"
      },
      "execution_count": 16,
      "outputs": [
        {
          "output_type": "stream",
          "name": "stdout",
          "text": [
            "+------+-----+\n",
            "|Origin|count|\n",
            "+------+-----+\n",
            "|Europe|   73|\n",
            "|    US|  254|\n",
            "| Japan|   79|\n",
            "+------+-----+\n",
            "\n"
          ]
        }
      ]
    },
    {
      "cell_type": "markdown",
      "source": [
        "Obtener el número de vehículos por \"Origin\" y \"Model\" y ordenar el resultado por el número de vehículos de manera descendente"
      ],
      "metadata": {
        "id": "-duENzWVQcVf"
      }
    },
    {
      "cell_type": "code",
      "source": [
        "from pyspark.sql.functions import col\n",
        "\n",
        "cars.groupBy(\"Origin\", \"Model\").count().orderBy(col(\"count\").desc()).show()\n"
      ],
      "metadata": {
        "colab": {
          "base_uri": "https://localhost:8080/"
        },
        "id": "k_0149J6QeGo",
        "outputId": "716d357c-a9f7-48aa-c871-64578dfcee97"
      },
      "execution_count": 17,
      "outputs": [
        {
          "output_type": "stream",
          "name": "stdout",
          "text": [
            "+------+-----+-----+\n",
            "|Origin|Model|count|\n",
            "+------+-----+-----+\n",
            "|    US|   73|   29|\n",
            "|    US|   70|   27|\n",
            "|    US|   79|   23|\n",
            "|    US|   76|   22|\n",
            "|    US|   78|   22|\n",
            "|    US|   75|   20|\n",
            "|    US|   82|   20|\n",
            "|    US|   71|   20|\n",
            "|    US|   72|   18|\n",
            "|    US|   77|   18|\n",
            "|    US|   74|   15|\n",
            "|    US|   81|   13|\n",
            "| Japan|   80|   13|\n",
            "| Japan|   81|   12|\n",
            "|Europe|   80|    9|\n",
            "| Japan|   82|    9|\n",
            "|Europe|   76|    8|\n",
            "| Japan|   78|    8|\n",
            "|    US|   80|    7|\n",
            "|Europe|   73|    7|\n",
            "+------+-----+-----+\n",
            "only showing top 20 rows\n",
            "\n"
          ]
        }
      ]
    },
    {
      "cell_type": "markdown",
      "source": [
        "Obtener la media de \"Horsepower\", \"Weight\" y \"Acceleration\" por \"Origen\""
      ],
      "metadata": {
        "id": "170LChS6Qi0d"
      }
    },
    {
      "cell_type": "code",
      "source": [
        "from pyspark.sql.functions import avg\n",
        "\n",
        "cars.groupBy(\"Origin\").agg(\n",
        "    avg(\"Horsepower\").alias(\"Avg_Horsepower\"),\n",
        "    avg(\"Weight\").alias(\"Avg_Weight\"),\n",
        "    avg(\"Acceleration\").alias(\"Avg_Acceleration\")\n",
        ").show()\n"
      ],
      "metadata": {
        "colab": {
          "base_uri": "https://localhost:8080/"
        },
        "id": "a9hG9GfdQmn4",
        "outputId": "3482fcf6-7561-4d02-f782-374c22174322"
      },
      "execution_count": 18,
      "outputs": [
        {
          "output_type": "stream",
          "name": "stdout",
          "text": [
            "+------+------------------+------------------+------------------+\n",
            "|Origin|    Avg_Horsepower|        Avg_Weight|  Avg_Acceleration|\n",
            "+------+------------------+------------------+------------------+\n",
            "|Europe| 78.78082191780823|2431.4931506849316| 16.82191780821918|\n",
            "|    US|118.01181102362204| 3372.700787401575|14.942519685039361|\n",
            "| Japan| 79.83544303797468| 2221.227848101266|16.172151898734175|\n",
            "+------+------------------+------------------+------------------+\n",
            "\n"
          ]
        }
      ]
    },
    {
      "cell_type": "markdown",
      "source": [
        "Calcular la ratio entre potencia y peso y a continuación sacar la media por cantidad de cilindros"
      ],
      "metadata": {
        "id": "O-N-UlViQs64"
      }
    },
    {
      "cell_type": "code",
      "source": [
        "from pyspark.sql.functions import expr\n",
        "\n",
        "# Crear la columna de ratio entre potencia y peso\n",
        "cars_with_ratio = cars.withColumn(\"Power_Weight_Ratio\", expr(\"Horsepower / Weight\"))\n",
        "\n",
        "# Sacar la media por cantidad de cilindros\n",
        "cars_with_ratio.groupBy(\"Cylinders\").agg(avg(\"Power_Weight_Ratio\").alias(\"Avg_Power_Weight_Ratio\")).show()\n"
      ],
      "metadata": {
        "colab": {
          "base_uri": "https://localhost:8080/"
        },
        "id": "QDL7oX-eQtyw",
        "outputId": "c627c97d-475d-45f2-8b87-d7b08915d952"
      },
      "execution_count": 19,
      "outputs": [
        {
          "output_type": "stream",
          "name": "stdout",
          "text": [
            "+---------+----------------------+\n",
            "|Cylinders|Avg_Power_Weight_Ratio|\n",
            "+---------+----------------------+\n",
            "|        3|  0.041441818290915214|\n",
            "|        8|   0.03872856292574305|\n",
            "|        5|  0.026973551761855744|\n",
            "|        6|   0.03163238614784404|\n",
            "|        4|  0.033217183371144564|\n",
            "+---------+----------------------+\n",
            "\n"
          ]
        }
      ]
    },
    {
      "cell_type": "code",
      "source": [],
      "metadata": {
        "id": "pC9sn_WYQaQF"
      },
      "execution_count": null,
      "outputs": []
    }
  ]
}