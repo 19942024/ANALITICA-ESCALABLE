{
  "nbformat": 4,
  "nbformat_minor": 0,
  "metadata": {
    "colab": {
      "provenance": []
    },
    "kernelspec": {
      "name": "python3",
      "display_name": "Python 3"
    },
    "language_info": {
      "name": "python"
    }
  },
  "cells": [
    {
      "cell_type": "markdown",
      "source": [
        "Ejercicio 1. Spark RDDs (5 puntos)\n",
        "\n",
        "• Generar un RDD que contenga los valores [74,22, 6,0,22, 10, 5, 10, 12] (0,5 puntos)\n",
        "• Mostrar los valores máximos y mínimos del RDD. (0,5 puntos)\n",
        "\n",
        "• Calcular la suma de todos los valores. (0,5 puntos)\n",
        "\n",
        "• Generar un nuevo RDD fruto de sumar diez unidades a cada elemento. (0,5 puntos)\n",
        "\n",
        "• Generar un nuevo RDD que contenga los valores únicos del RDD original. (0,5 puntos)\n",
        "\n",
        "• Generar un “cuenta palabras” que calcule el número de veces que aparece cada una en el fichero loremipsum.txt (1 punto)\n",
        "\n",
        "• Usando el RDD anterior, debemos generar uno nuevo RDD que contenga las palabras en mayúsculas de solo aquellas palabras con longitud mayor o igual a 7. (1,5 puntos)"
      ],
      "metadata": {
        "id": "lM5M4I4-GNVi"
      }
    },
    {
      "cell_type": "code",
      "metadata": {
        "id": "UvlQzeGCdAPj"
      },
      "source": [
        "#Instalamos java ya que Spark está basado en Scala y necesita de la MV de java\n",
        "#para ejecutarse\n",
        "!apt-get install openjdk-8-jdk-headless -qq > /dev/null"
      ],
      "execution_count": 1,
      "outputs": []
    },
    {
      "cell_type": "code",
      "source": [
        "import os # libreria de manejo del sistema operativo\n",
        "os.system(\"wget -q https://dlcdn.apache.org/spark/spark-3.4.3/spark-3.4.3-bin-hadoop3.tgz\")\n",
        "os.system(\"tar xf /spark-3.4.3-bin-hadoop3.tgz\")\n",
        "# Descomprimimos el tar\n",
        "!tar xf /content/spark-3.4.3-bin-hadoop3.tgz"
      ],
      "metadata": {
        "id": "QewA3TDDKasS"
      },
      "execution_count": 2,
      "outputs": []
    },
    {
      "cell_type": "code",
      "source": [
        "#Instalamos pyspark\n",
        "!pip install -q pyspark\n",
        "\n",
        "# Variables de Entorno\n",
        "os.environ[\"JAVA_HOME\"] = \"/usr/lib/jvm/java-8-openjdk-amd64\"\n",
        "os.environ[\"SPARK_HOME\"] = f\"/content/spark-3.4.3-bin-hadoop3\"\n",
        "\n"
      ],
      "metadata": {
        "colab": {
          "base_uri": "https://localhost:8080/"
        },
        "id": "m9Wd-P3mKdW8",
        "outputId": "b1630c5c-cda1-4da8-86a5-2ad75bd50b06"
      },
      "execution_count": 3,
      "outputs": [
        {
          "output_type": "stream",
          "name": "stdout",
          "text": [
            "\u001b[2K     \u001b[90m━━━━━━━━━━━━━━━━━━━━━━━━━━━━━━━━━━━━━━━━\u001b[0m \u001b[32m317.0/317.0 MB\u001b[0m \u001b[31m2.4 MB/s\u001b[0m eta \u001b[36m0:00:00\u001b[0m\n",
            "\u001b[?25h  Preparing metadata (setup.py) ... \u001b[?25l\u001b[?25hdone\n",
            "  Building wheel for pyspark (setup.py) ... \u001b[?25l\u001b[?25hdone\n"
          ]
        }
      ]
    },
    {
      "cell_type": "code",
      "source": [
        "!pip install -q findspark"
      ],
      "metadata": {
        "id": "GB7AANCiLBsa"
      },
      "execution_count": 4,
      "outputs": []
    },
    {
      "cell_type": "code",
      "source": [
        "import findspark\n",
        "#We need to locate Spark in the system. For that, we import findspark and use the findspark.init() method.\n",
        "findspark.init()\n",
        "#Para saber donde está instalado\n",
        "findspark.find()"
      ],
      "metadata": {
        "colab": {
          "base_uri": "https://localhost:8080/",
          "height": 36
        },
        "id": "qXyKrU0JK7wv",
        "outputId": "c93eaf3f-d9fb-4540-b10a-d9af309d3efb"
      },
      "execution_count": 5,
      "outputs": [
        {
          "output_type": "execute_result",
          "data": {
            "text/plain": [
              "'/content/spark-3.4.3-bin-hadoop3'"
            ],
            "application/vnd.google.colaboratory.intrinsic+json": {
              "type": "string"
            }
          },
          "metadata": {},
          "execution_count": 5
        }
      ]
    },
    {
      "cell_type": "markdown",
      "metadata": {
        "id": "4g8eS3rOcyBg"
      },
      "source": [
        "## Creación de un contexto de Spark"
      ]
    },
    {
      "cell_type": "code",
      "metadata": {
        "id": "yGt0ZLZncyBh"
      },
      "source": [
        "from pyspark import SparkContext"
      ],
      "execution_count": 6,
      "outputs": []
    },
    {
      "cell_type": "code",
      "source": [
        "sc = SparkContext().getOrCreate()"
      ],
      "metadata": {
        "id": "7sRcxpIsPI4e"
      },
      "execution_count": 7,
      "outputs": []
    },
    {
      "cell_type": "markdown",
      "metadata": {
        "id": "LJ4LKcV3cyBi"
      },
      "source": [
        "## Empezando con RDDs\n",
        "\n"
      ]
    },
    {
      "cell_type": "markdown",
      "source": [
        "Generar el RDD que contenga los valores [74, 22, 6, 0, 22, 10, 5, 10, 12]"
      ],
      "metadata": {
        "id": "bHQXSyGq24cW"
      }
    },
    {
      "cell_type": "code",
      "metadata": {
        "scrolled": true,
        "colab": {
          "base_uri": "https://localhost:8080/"
        },
        "id": "Xti35IAtcyBi",
        "outputId": "dbfd390d-b527-4e74-e358-a7eebfd2f0df"
      },
      "source": [
        "#Visualizar una lista de RDD\n",
        "rdd = sc.parallelize([74, 22, 6, 0, 22, 10, 5, 10, 12])\n",
        "print (rdd.collect())"
      ],
      "execution_count": 8,
      "outputs": [
        {
          "output_type": "stream",
          "name": "stdout",
          "text": [
            "[74, 22, 6, 0, 22, 10, 5, 10, 12]\n"
          ]
        }
      ]
    },
    {
      "cell_type": "markdown",
      "source": [
        "Mostrar los valores máximos y mínimos del RDD"
      ],
      "metadata": {
        "id": "CEnoW-6Q2l9T"
      }
    },
    {
      "cell_type": "code",
      "source": [
        "max_valor = rdd.max()\n",
        "min_valor = rdd.min()\n",
        "print(f\"Valor máximo: {max_valor}\")\n",
        "print(f\"Valor mínimo: {min_valor}\")\n"
      ],
      "metadata": {
        "colab": {
          "base_uri": "https://localhost:8080/"
        },
        "id": "3WuVrIOV2TJ8",
        "outputId": "c209ed2c-b6af-4f5b-82be-218f0230b0f7"
      },
      "execution_count": 9,
      "outputs": [
        {
          "output_type": "stream",
          "name": "stdout",
          "text": [
            "Valor máximo: 74\n",
            "Valor mínimo: 0\n"
          ]
        }
      ]
    },
    {
      "cell_type": "markdown",
      "source": [
        "Calcular la suma de todos los valores"
      ],
      "metadata": {
        "id": "WknuaMII3SVN"
      }
    },
    {
      "cell_type": "code",
      "source": [
        "suma = rdd.sum()\n",
        "print(f\"Suma de todos los valores: {suma}\")\n"
      ],
      "metadata": {
        "colab": {
          "base_uri": "https://localhost:8080/"
        },
        "id": "nPhhlB7V2TOT",
        "outputId": "25f38823-7c2d-4bbe-c645-58259dcbf134"
      },
      "execution_count": 10,
      "outputs": [
        {
          "output_type": "stream",
          "name": "stdout",
          "text": [
            "Suma de todos los valores: 161\n"
          ]
        }
      ]
    },
    {
      "cell_type": "markdown",
      "source": [
        "Generar un nuevo RDD fruto de sumar diez unidades a cada elemento"
      ],
      "metadata": {
        "id": "cm9RfqE73a_W"
      }
    },
    {
      "cell_type": "code",
      "source": [
        "rdd_sumado = rdd.map(lambda x: x + 10)\n",
        "print(\"Nuevo RDD con 10 unidades añadidas a cada elemento:\")\n",
        "print(rdd_sumado.collect())\n"
      ],
      "metadata": {
        "colab": {
          "base_uri": "https://localhost:8080/"
        },
        "id": "vXLIN7lN2TRi",
        "outputId": "e2c06242-3188-4402-c8b2-4051b717c184"
      },
      "execution_count": 11,
      "outputs": [
        {
          "output_type": "stream",
          "name": "stdout",
          "text": [
            "Nuevo RDD con 10 unidades añadidas a cada elemento:\n",
            "[84, 32, 16, 10, 32, 20, 15, 20, 22]\n"
          ]
        }
      ]
    },
    {
      "cell_type": "markdown",
      "source": [
        "Generar un nuevo RDD que contenga los valores únicos del RDD original"
      ],
      "metadata": {
        "id": "yd9V99J-3ohP"
      }
    },
    {
      "cell_type": "code",
      "source": [
        "rdd_unicos = rdd.distinct()\n",
        "print(\"Nuevo RDD con valores únicos:\")\n",
        "print(rdd_unicos.collect())\n"
      ],
      "metadata": {
        "colab": {
          "base_uri": "https://localhost:8080/"
        },
        "id": "iq94SFqZ3pKA",
        "outputId": "8b73c2e0-bc24-423b-cffe-4439d80ef742"
      },
      "execution_count": 12,
      "outputs": [
        {
          "output_type": "stream",
          "name": "stdout",
          "text": [
            "Nuevo RDD con valores únicos:\n",
            "[74, 22, 6, 0, 10, 12, 5]\n"
          ]
        }
      ]
    },
    {
      "cell_type": "markdown",
      "source": [
        "Generar un “cuenta palabras” que calcule el número de veces que aparece cada una en el fichero loremipsum.txt"
      ],
      "metadata": {
        "id": "Wc_l1jDYEThH"
      }
    },
    {
      "cell_type": "code",
      "source": [
        "texto_rdd = sc.textFile(\"loremipsum.txt\")\n",
        "palabras_rdd = texto_rdd.flatMap(lambda linea: linea.split(\" \"))\n",
        "cuenta_palabras = palabras_rdd.map(lambda palabra: (palabra, 1)).reduceByKey(lambda a, b: a + b)\n",
        "print(\"Cuenta palabras:\")\n",
        "print(cuenta_palabras.collect())\n"
      ],
      "metadata": {
        "colab": {
          "base_uri": "https://localhost:8080/"
        },
        "id": "k0Ddp7sM2TUQ",
        "outputId": "301f831e-d27e-4618-9532-094c0b7f47cf"
      },
      "execution_count": 13,
      "outputs": [
        {
          "output_type": "stream",
          "name": "stdout",
          "text": [
            "Cuenta palabras:\n",
            "[('Lorem', 1), ('ipsum', 2), ('consectetur', 2), ('elit.', 1), ('Nunc', 1), ('Donec', 4), ('at', 3), ('commodo,', 1), ('varius', 2), ('lorem.', 1), ('in', 3), ('nisi', 2), ('suscipit', 1), ('iaculis', 2), ('neque.', 1), ('malesuada', 2), ('tellus', 1), ('fermentum', 2), ('quam', 2), ('ullamcorper', 2), ('cursus.', 1), ('Aliquam', 1), ('tellus,', 1), ('cursus', 1), ('augue', 2), ('ut,', 1), ('dictum', 2), ('ante.', 1), ('Duis', 3), ('ornare', 1), ('Sed', 3), ('et,', 1), ('Vestibulum', 1), ('metus', 1), ('dui,', 1), ('quis', 5), ('nibh.', 1), ('fringilla', 1), ('diam', 1), ('sagittis', 3), ('nulla', 1), ('Nam', 2), ('lacus', 1), ('vitae', 5), ('congue', 2), ('massa.', 1), ('Cras', 1), ('venenatis', 2), ('erat.', 2), ('Quisque', 1), ('sed', 5), ('sapien,', 2), ('porttitor', 1), ('magna', 1), ('condimentum', 1), ('lectus,', 1), ('purus.', 1), ('convallis', 1), ('amet', 4), ('ante', 3), ('scelerisque', 1), ('ultricies.', 1), ('lectus', 1), ('sapien', 1), ('eget', 1), ('erat', 3), ('mollis', 2), ('Vivamus', 1), ('purus', 2), ('molestie', 1), ('mi', 1), ('vel,', 1), ('finibus', 1), ('molestie,', 1), ('leo', 2), ('ex.', 1), ('interdum,', 1), ('felis', 1), ('feugiat.', 1), ('Orci', 1), ('natoque', 1), ('dis', 1), ('nascetur', 1), ('mus.', 1), ('ipsum.', 2), ('ex', 1), ('sodales', 2), ('tempus,', 2), ('sapien.', 1), ('facilisi.', 1), ('rhoncus', 1), ('interdum', 1), ('nisi,', 1), ('lacinia', 1), ('eget.', 1), ('dolor', 3), ('sit', 5), ('amet,', 1), ('adipiscing', 1), ('non', 4), ('gravida', 4), ('libero.', 1), ('lorem', 3), ('vitae,', 1), ('arcu', 1), ('purus,', 1), ('pharetra', 1), ('at,', 1), ('Nullam', 1), ('mauris', 3), ('sagittis,', 1), ('nec', 3), ('vestibulum.', 1), ('Ut', 5), ('elementum', 3), ('libero', 2), ('et', 4), ('semper,', 2), ('a', 6), ('turpis', 1), ('nisl', 2), ('tristique', 1), ('orci', 2), ('ut', 2), ('efficitur', 2), ('rhoncus.', 1), ('eu', 5), ('maximus,', 1), ('luctus', 4), ('turpis.', 3), ('tempor', 2), ('nec,', 1), ('Suspendisse', 1), ('neque', 2), ('vehicula,', 1), ('euismod.', 1), ('enim', 2), ('posuere', 1), ('porta.', 1), ('Curabitur', 1), ('ac', 2), ('dolor.', 1), ('aliquam', 1), ('aliquet', 1), ('odio.', 1), ('eros', 2), ('elit,', 1), ('tempus', 1), ('quis,', 1), ('Mauris', 1), ('mauris,', 1), ('blandit', 1), ('tristique.', 1), ('Fusce', 1), ('tortor.', 1), ('lacus,', 1), ('sem.', 1), ('facilisis', 1), ('neque,', 1), ('tortor', 1), ('penatibus', 1), ('magnis', 1), ('parturient', 1), ('montes,', 1), ('ridiculus', 1), ('viverra', 1), ('euismod', 1), ('Nulla', 2), ('massa', 2), ('consequat', 1), ('vel', 1), ('iaculis,', 1), ('consequat,', 1), ('id', 1)]\n"
          ]
        }
      ]
    },
    {
      "cell_type": "markdown",
      "source": [
        "Generar un nuevo RDD que contenga las palabras en mayúsculas de solo aquellas palabras con longitud mayor o igual a 7"
      ],
      "metadata": {
        "id": "tUsQOmrZFEXs"
      }
    },
    {
      "cell_type": "code",
      "source": [
        "palabras_mayusculas = cuenta_palabras.filter(lambda x: len(x[0]) >= 7).map(lambda x: x[0].upper())\n",
        "print(\"Palabras en mayúsculas con longitud >= 7:\")\n",
        "print(palabras_mayusculas.collect())\n"
      ],
      "metadata": {
        "colab": {
          "base_uri": "https://localhost:8080/"
        },
        "id": "Y_ZA0D0B2Tba",
        "outputId": "79aa3557-5e17-47c6-b298-a9fdcd31cf2e"
      },
      "execution_count": 14,
      "outputs": [
        {
          "output_type": "stream",
          "name": "stdout",
          "text": [
            "Palabras en mayúsculas con longitud >= 7:\n",
            "['CONSECTETUR', 'COMMODO,', 'SUSCIPIT', 'IACULIS', 'MALESUADA', 'FERMENTUM', 'ULLAMCORPER', 'CURSUS.', 'ALIQUAM', 'TELLUS,', 'VESTIBULUM', 'FRINGILLA', 'SAGITTIS', 'VENENATIS', 'QUISQUE', 'SAPIEN,', 'PORTTITOR', 'CONDIMENTUM', 'LECTUS,', 'CONVALLIS', 'SCELERISQUE', 'ULTRICIES.', 'VIVAMUS', 'MOLESTIE', 'FINIBUS', 'MOLESTIE,', 'INTERDUM,', 'FEUGIAT.', 'NATOQUE', 'NASCETUR', 'SODALES', 'TEMPUS,', 'SAPIEN.', 'FACILISI.', 'RHONCUS', 'INTERDUM', 'LACINIA', 'ADIPISCING', 'GRAVIDA', 'LIBERO.', 'PHARETRA', 'SAGITTIS,', 'VESTIBULUM.', 'ELEMENTUM', 'SEMPER,', 'TRISTIQUE', 'EFFICITUR', 'RHONCUS.', 'MAXIMUS,', 'TURPIS.', 'SUSPENDISSE', 'VEHICULA,', 'EUISMOD.', 'POSUERE', 'CURABITUR', 'ALIQUAM', 'ALIQUET', 'MAURIS,', 'BLANDIT', 'TRISTIQUE.', 'TORTOR.', 'FACILISIS', 'PENATIBUS', 'PARTURIENT', 'MONTES,', 'RIDICULUS', 'VIVERRA', 'EUISMOD', 'CONSEQUAT', 'IACULIS,', 'CONSEQUAT,']\n"
          ]
        }
      ]
    },
    {
      "cell_type": "code",
      "source": [],
      "metadata": {
        "id": "H45QiiOn2TdT"
      },
      "execution_count": null,
      "outputs": []
    },
    {
      "cell_type": "markdown",
      "source": [],
      "metadata": {
        "id": "yCvdyNj1GLye"
      }
    }
  ]
}